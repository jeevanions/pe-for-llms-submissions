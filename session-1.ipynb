{
 "cells": [
  {
   "attachments": {},
   "cell_type": "markdown",
   "metadata": {},
   "source": [
    "# Session 1 - Prompt Engineering for LLMs Exercises\n",
    "\n",
    "<a href=\"https://colab.research.google.com/github/dair-ai/maven-pe-for-llms-10/blob/main/exercises/session-1.ipynb\" target=\"_parent\"><img src=\"https://colab.research.google.com/assets/colab-badge.svg\" alt=\"Open In Colab\"/></a>"
   ]
  },
  {
   "cell_type": "code",
   "execution_count": 1,
   "metadata": {},
   "outputs": [],
   "source": [
    "%%capture\n",
    "# update or install the necessary libraries\n",
    "!pip install --upgrade openai\n",
    "!pip install --upgrade python-dotenv"
   ]
  },
  {
   "cell_type": "code",
   "execution_count": 2,
   "metadata": {},
   "outputs": [],
   "source": [
    "# load the libraries\n",
    "import openai\n",
    "import os\n",
    "import IPython\n",
    "from dotenv import load_dotenv\n",
    "\n",
    "# load the environment variables\n",
    "load_dotenv()\n",
    "\n",
    "# API configuration\n",
    "openai.api_key = os.getenv(\"OPENAI_API_KEY\")"
   ]
  },
  {
   "attachments": {},
   "cell_type": "markdown",
   "metadata": {},
   "source": [
    "### Using The Chat LLM (GPT-3.5-Turbo)"
   ]
  },
  {
   "cell_type": "code",
   "execution_count": 3,
   "metadata": {},
   "outputs": [],
   "source": [
    "def get_completion(messages, model=\"gpt-3.5-turbo\", temperature=0, max_tokens=300):\n",
    "    response = openai.chat.completions.create(\n",
    "        model=model,\n",
    "        messages=messages,\n",
    "        temperature=temperature,\n",
    "        max_tokens=max_tokens,\n",
    "    )\n",
    "    return response.choices[0].message.content"
   ]
  },
  {
   "cell_type": "markdown",
   "metadata": {},
   "source": [
    "## Part 1"
   ]
  },
  {
   "attachments": {},
   "cell_type": "markdown",
   "metadata": {},
   "source": [
    "### Exercise: Getting Started"
   ]
  },
  {
   "attachments": {},
   "cell_type": "markdown",
   "metadata": {},
   "source": [
    "Test the prompt below using different temperature values. Try with high and low temperature values, including a temperature value of `0`. Do you see any differences in the outputs?"
   ]
  },
  {
   "cell_type": "code",
   "execution_count": 4,
   "metadata": {},
   "outputs": [
    {
     "name": "stdout",
     "output_type": "stream",
     "text": [
      "Prompt engineering is the process of designing and creating prompts or cues that are used to guide or influence behavior. This can be done in various contexts, such as in user interfaces, marketing campaigns, or educational settings. The goal of prompt engineering is to encourage specific actions or responses by providing clear and effective prompts that prompt individuals to take a desired course of action.\n",
      "Prompt engineering is the process of designing and creating prompts that are used in various contexts, such as in surveys, questionnaires, interviews, and assessments. The goal of prompt engineering is to create clear, concise, and effective prompts that elicit the desired responses from participants. This involves carefully crafting the wording, structure, and format of the prompts to ensure they are easy to understand and interpret. Prompt engineering is often used in research, marketing, and user experience design to gather accurate and meaningful data.\n",
      "Prompt engineering is the process of designing and creating prompts that are used in various contexts, such as in surveys, questionnaires, interviews, and assessments. The goal of prompt engineering is to create clear, concise, and effective prompts that elicit the desired information or response from participants. This involves carefully crafting the wording, structure, and format of the prompts to ensure they are easy to understand and interpret. Prompt engineering is often used in research, market research, and data collection to gather accurate and reliable information from participants.\n",
      "Prompt engineering is the process of designing and creating prompts or cues that are used to elicit specific behaviors or responses from individuals. This can be seen in various fields such as marketing, psychology, education, and technology, where prompts are used to guide or influence human behavior in desired ways. Prompt engineering involves understanding human psychology and behavior to create effective prompts that encourage certain actions or decisions.\n",
      "Prompt engineering refers to the process of designing, creating, and implementing prompts in a structured and intentional way to elicit a specific response or behavior from individuals. This concept is commonly used in various fields such as psychology, marketing, and user interface design to influence human behavior and decision-making. By strategically designing prompts, organizations can effectively guide individuals towards desired actions or outcomes.\n",
      "Prompt engineering refers to the practice of designing and creating prompts or cues that encourage a specific behavior or action from individuals. These prompts can be physical objects, visual or auditory cues, or written instructions that influence people's decisions and actions. Prompt engineering is commonly used in various fields such as marketing, education, and public health to motivate desired behaviors, increase compliance, and drive positive outcomes.\n"
     ]
    }
   ],
   "source": [
    "user_message = \"What is prompt engineering?\"\n",
    "\n",
    "messages = [\n",
    "    {\n",
    "        \"role\": \"user\",\n",
    "        \"content\": user_message\n",
    "    }\n",
    "]\n",
    "\n",
    "response0 = get_completion(messages, temperature=0)\n",
    "response0_2 = get_completion(messages, temperature=0.2)\n",
    "response0_4 = get_completion(messages, temperature=0.4)\n",
    "response0_6 = get_completion(messages, temperature=0.6)\n",
    "response0_8 = get_completion(messages, temperature=0.8)\n",
    "response1 = get_completion(messages, temperature=1)\n",
    "print(response0)\n",
    "print(response0_2)\n",
    "print(response0_4)\n",
    "print(response0_6)\n",
    "print(response0_8)\n",
    "print(response1)"
   ]
  },
  {
   "cell_type": "markdown",
   "metadata": {},
   "source": [
    "# Part 2"
   ]
  },
  {
   "cell_type": "markdown",
   "metadata": {},
   "source": [
    "### Exercise: Text Summarization\n",
    "\n",
    "Modify the prompt below to use 3 short sentences and an exciting tone. "
   ]
  },
  {
   "cell_type": "code",
   "execution_count": 10,
   "metadata": {},
   "outputs": [
    {
     "name": "stdout",
     "output_type": "stream",
     "text": [
      "Try 1: Get ready to fight off those pesky bacterial infections with the power of antibiotics! These medications work by either killing bacteria or stopping them from multiplying, giving your immune system a fighting chance. Just remember to use them properly to avoid antibiotic resistance and keep those infections at bay.\n",
      "Try 2: Get ready to kick those pesky bacterial infections to the curb with the power of antibiotics! These miracle drugs either wipe out the bacteria or stop them from multiplying, giving your immune system the upper hand in the battle. Whether you're popping a pill or getting a dose through an IV, antibiotics are the superhero your body needs to fight off infections - just remember, they're no match for viruses!\n",
      "Try 3: Get ready to conquer bacterial infections with the amazing power of antibiotics! These incredible medications work tirelessly to eliminate harmful bacteria, giving your immune system the boost it needs to win the battle. Whether in pill form or through an IV, antibiotics are the superheroes of modern medicine, but remember to use them wisely to prevent the rise of antibiotic resistance.\n",
      "Try 2: Get ready to conquer bacterial infections with the powerful arsenal of antibiotics! These medications are like superheroes, swooping in to either annihilate harmful bacteria or stop them from multiplying, giving your immune system the upper hand in the battle against infection. Whether in pill form or through an IV, antibiotics are the ultimate weapon against bacteria, but remember - they're no match for viruses, so use them wisely to prevent the rise of antibiotic resistance.\n"
     ]
    }
   ],
   "source": [
    "# Try 1\n",
    "prompt = \"\"\"\n",
    "Your task is to summarize an abstract into 3 sentence with an excitment. \n",
    "\n",
    "Abstract: Antibiotics are a type of medication used to treat bacterial infections. They work by either killing the bacteria or preventing them from reproducing, allowing the body's immune system to fight off the infection. Antibiotics are usually taken orally in the form of pills, capsules, or liquid solutions, or sometimes administered intravenously. They are not effective against viral infections, and using them inappropriately can lead to antibiotic resistance.\n",
    "\"\"\"\n",
    "\n",
    "message = [\n",
    "    {   \n",
    "        \"role\": \"user\",\n",
    "        \"content\": prompt\n",
    "    }\n",
    "]\n",
    "\n",
    "response = get_completion(message, temperature=0)\n",
    "print(\"Try 1: \" + response)\n",
    "\n",
    "# Try 2\n",
    "prompt = \"\"\"\n",
    "Your task is to summarize an abstract into 3 sentence with an exciting tone. \n",
    "\n",
    "Abstract: Antibiotics are a type of medication used to treat bacterial infections. They work by either killing the bacteria or preventing them from reproducing, allowing the body's immune system to fight off the infection. Antibiotics are usually taken orally in the form of pills, capsules, or liquid solutions, or sometimes administered intravenously. They are not effective against viral infections, and using them inappropriately can lead to antibiotic resistance.\n",
    "\"\"\"\n",
    "\n",
    "message = [\n",
    "    {   \n",
    "        \"role\": \"user\",\n",
    "        \"content\": prompt\n",
    "    }\n",
    "]\n",
    "\n",
    "response = get_completion(message, temperature=0)\n",
    "print(\"Try 2: \" + response)\n",
    "\n",
    "# Try 3\n",
    "\n",
    "system = \"\"\"\n",
    "Your task is to summarize an abstract into 3 sentence with an excitment. \n",
    "\"\"\"\n",
    "\n",
    "user = \"\"\"\n",
    "Abstract: Antibiotics are a type of medication used to treat bacterial infections. They work by either killing the bacteria or preventing them from reproducing, allowing the body's immune system to fight off the infection. Antibiotics are usually taken orally in the form of pills, capsules, or liquid solutions, or sometimes administered intravenously. They are not effective against viral infections, and using them inappropriately can lead to antibiotic resistance.\n",
    "\"\"\"\n",
    "\n",
    "message = [\n",
    "    {   \n",
    "        \"role\": \"system\",\n",
    "        \"content\": system\n",
    "    },\n",
    "    {   \n",
    "        \"role\": \"user\",\n",
    "        \"content\": prompt\n",
    "    }\n",
    "]\n",
    "\n",
    "response = get_completion(message, temperature=0)\n",
    "print(\"Try 3: \" + response)\n",
    "\n",
    "# Try 4\n",
    "\n",
    "system = \"\"\"\n",
    "Your task is to summarize an abstract into 3 sentence with an exciting tone. \n",
    "\"\"\"\n",
    "\n",
    "user = \"\"\"\n",
    "Abstract: Antibiotics are a type of medication used to treat bacterial infections. They work by either killing the bacteria or preventing them from reproducing, allowing the body's immune system to fight off the infection. Antibiotics are usually taken orally in the form of pills, capsules, or liquid solutions, or sometimes administered intravenously. They are not effective against viral infections, and using them inappropriately can lead to antibiotic resistance.\n",
    "\"\"\"\n",
    "\n",
    "message = [\n",
    "    {   \n",
    "        \"role\": \"system\",\n",
    "        \"content\": system\n",
    "    },\n",
    "    {   \n",
    "        \"role\": \"user\",\n",
    "        \"content\": prompt\n",
    "    }\n",
    "]\n",
    "\n",
    "response = get_completion(message, temperature=0)\n",
    "print(\"Try 2: \" + response)\n"
   ]
  },
  {
   "cell_type": "markdown",
   "metadata": {},
   "source": [
    "# Part 3"
   ]
  },
  {
   "attachments": {},
   "cell_type": "markdown",
   "metadata": {},
   "source": [
    "### Exercise: Explain Like I am 5\n",
    "\n",
    "Modify the prompt below to instruct the model to explain the paragraph in one sentence like \"I am 5\". Do you observe any differences in language style?"
   ]
  },
  {
   "cell_type": "code",
   "execution_count": 11,
   "metadata": {},
   "outputs": [
    {
     "name": "stdout",
     "output_type": "stream",
     "text": [
      "Try1:Antibiotics are special medicine that help your body fight off bad germs when you are sick.\n",
      "Try 2: Antibiotics are special medicines that help our bodies fight off bad germs that make us sick, but we have to be careful to use them only when we really need them so they can keep working well.\n"
     ]
    }
   ],
   "source": [
    "# Try 1: \n",
    "user_message = \"\"\"\n",
    "Antibiotics are a type of medication used to treat bacterial infections. They work by either killing the bacteria or preventing them from reproducing, allowing the body's immune system to fight off the infection. Antibiotics are usually taken orally in the form of pills, capsules, or liquid solutions, or sometimes administered intravenously. They are not effective against viral infections, and using them inappropriately can lead to antibiotic resistance. \n",
    "\n",
    "Explain the above to a 5 year old in one sentence:\n",
    "\"\"\"\n",
    "\n",
    "messages = [\n",
    "    {\n",
    "        \"role\": \"user\",\n",
    "        \"content\": user_message\n",
    "    }\n",
    "]\n",
    "\n",
    "response = get_completion(messages)\n",
    "print(\"Try1:\" + response)\n",
    "\n",
    "# Try 2: \n",
    "\n",
    "system_message = \"\"\"\n",
    "Explain the abstract to a 5 year old in one sentence:\n",
    "\"\"\"\n",
    "\n",
    "user_message = \"\"\"\n",
    "Antibiotics are a type of medication used to treat bacterial infections. They work by either killing the bacteria or preventing them from reproducing, allowing the body's immune system to fight off the infection. Antibiotics are usually taken orally in the form of pills, capsules, or liquid solutions, or sometimes administered intravenously. They are not effective against viral infections, and using them inappropriately can lead to antibiotic resistance. \n",
    "\"\"\"\n",
    "\n",
    "messages = [\n",
    "    {\n",
    "        \"role\": \"system\",\n",
    "        \"content\": system_message\n",
    "    },\n",
    "    {\n",
    "        \"role\": \"user\",\n",
    "        \"content\": user_message\n",
    "    }\n",
    "]\n",
    "\n",
    "response = get_completion(messages)\n",
    "print(\"Try 2: \" + response)"
   ]
  },
  {
   "attachments": {},
   "cell_type": "markdown",
   "metadata": {},
   "source": [
    "### Exercise: Unsure About Answer\n",
    "\n",
    "Modify the prompt below to elicit the model to respond that it isn't sure about the answer. Hint: you can try to remove important details from the prompt. The goal is to ensure that the model doesn't make up an answer if it's not able to find an answer."
   ]
  },
  {
   "cell_type": "code",
   "execution_count": 21,
   "metadata": {},
   "outputs": [
    {
     "name": "stdout",
     "output_type": "stream",
     "text": [
      "Mice\n",
      "Mouse cells\n",
      "Unsure about answer\n"
     ]
    }
   ],
   "source": [
    "# Prompt Iteration 1\n",
    "\n",
    "iteration1_user_message = \"\"\"\n",
    "Answer the question based on the context below. Keep the answer short and concise. Respond \"Unsure about answer\" if not sure about the answer.\n",
    "\n",
    "Context: Teplizumab traces its roots to a New Jersey drug company called Ortho Pharmaceutical. There, scientists generated an early version of the antibody. Originally sourced from mice, the molecule was able to bind to the surface of T cells and limit their cell-killing potential. In 1986, it was approved to help prevent organ rejection after kidney transplants, making it the first therapeutic antibody allowed for human use.\n",
    "\n",
    "Question: What was OKT3 originally sourced from?\n",
    "\n",
    "Answer:\n",
    "\"\"\"\n",
    "\n",
    "# Prompt Iteration 2\n",
    "\n",
    "iteration2_user_message = \"\"\"\n",
    "Answer the question based on the context below. Keep the answer short and concise. Respond \"Unsure about answer\" if not sure about the answer.\n",
    "\n",
    "Context: The scientists generated an early version of the antibody that was able to bind to the surface of T cells and limit their cell-killing potential. In 1986, it was approved to help prevent organ rejection after kidney transplants, making it the first therapeutic antibody allowed for human use.\n",
    "\n",
    "Question: What was OKT3 originally sourced from?\n",
    "\n",
    "Answer:\n",
    "\"\"\"\n",
    "\n",
    "# Prompt Iteration 3\n",
    "\n",
    "iteration3_user_message = \"\"\"\n",
    "Answer the question based the context below and do not use your pre trained knowledge. Keep the answer short and concise. Respond \"Unsure about answer\" if not sure about the answer.\n",
    "\n",
    "Context: The scientists generated an early version of the antibody that was able to bind to the surface of T cells and limit their cell-killing potential. \n",
    "In 1986, it was approved to help prevent organ rejection after kidney transplants, making it the first therapeutic antibody allowed for human use.\n",
    "\n",
    "Question: What was OKT3 originally sourced from?\n",
    "\n",
    "Answer:\n",
    "\"\"\"\n",
    "\n",
    "iteration1_messages = [\n",
    "    {\n",
    "        \"role\": \"user\",\n",
    "        \"content\": iteration1_user_message\n",
    "    }\n",
    "]\n",
    "\n",
    "iteration2_messages = [\n",
    "    {\n",
    "        \"role\": \"user\",\n",
    "        \"content\": iteration2_user_message\n",
    "    }\n",
    "]\n",
    "\n",
    "iteration3_messages = [\n",
    "    {\n",
    "        \"role\": \"user\",\n",
    "        \"content\": iteration3_user_message\n",
    "    }\n",
    "]\n",
    "\n",
    "iteration1_response = get_completion(iteration1_messages)\n",
    "print(iteration1_response)\n",
    "iteration2_response = get_completion(iteration2_messages)\n",
    "print(iteration2_response)\n",
    "iteration3_response = get_completion(iteration3_messages)\n",
    "print(iteration3_response)"
   ]
  },
  {
   "attachments": {},
   "cell_type": "markdown",
   "metadata": {},
   "source": [
    "### Exercise: Explain Answers\n",
    "\n",
    "Modify the prompt below to instruct the model to provide an explanation for the answer selected."
   ]
  },
  {
   "cell_type": "code",
   "execution_count": 22,
   "metadata": {},
   "outputs": [
    {
     "name": "stdout",
     "output_type": "stream",
     "text": [
      "Neutral\n",
      "\n",
      "Reasoning:\n",
      "1. The statement \"I think the food was okay\" does not express a strong positive or negative opinion.\n",
      "2. The word \"okay\" is often used to indicate a neutral or average opinion.\n",
      "3. The lack of strong language or emotion in the statement suggests a neutral sentiment.\n"
     ]
    }
   ],
   "source": [
    "user_message = \"\"\"\n",
    "Classify the text into neutral, negative or positive. Explain your reasonging in step by step manner.\n",
    "\n",
    "Text: I think the food was okay.\n",
    "\n",
    "Sentiment:\n",
    "\"\"\"\n",
    "\n",
    "messages = [\n",
    "    {\n",
    "        \"role\": \"user\",\n",
    "        \"content\": user_message\n",
    "    }\n",
    "]\n",
    "\n",
    "response = get_completion(messages)\n",
    "print(response)"
   ]
  },
  {
   "attachments": {},
   "cell_type": "markdown",
   "metadata": {},
   "source": [
    "### Exercise: Precise Output and Delimiters\n",
    "Add an additional instruction to use delimiter around the input text. Also, add an instruction to output the label in lowercase."
   ]
  },
  {
   "cell_type": "code",
   "execution_count": 24,
   "metadata": {},
   "outputs": [
    {
     "name": "stdout",
     "output_type": "stream",
     "text": [
      "neutral\n"
     ]
    }
   ],
   "source": [
    "system_message = \"\"\"\n",
    "1. Classify the text, specified in tag <Input></Input>, using a label of 'neutral', 'negative' or 'positive'. \n",
    "2. Output the label as a string in lowercase letters.\n",
    "\"\"\"\n",
    "\n",
    "user_message = \"\"\"\n",
    "<Input>I think the food was okay.</Input> I am feeling excited about the food.\n",
    "\"\"\"\n",
    "\n",
    "messages = [\n",
    "    {\n",
    "        \"role\": \"system\",\n",
    "        \"content\": system_message\n",
    "    },\n",
    "    {\n",
    "        \"role\": \"user\",\n",
    "        \"content\": user_message\n",
    "    }\n",
    "]\n",
    "\n",
    "response = get_completion(messages)\n",
    "print(response)"
   ]
  },
  {
   "attachments": {},
   "cell_type": "markdown",
   "metadata": {},
   "source": [
    "### Exercise: Information Extraction\n",
    "\n",
    "Use the poem below to create a prompt that instructs the model to extract all the verbs, including the number of verbs found. "
   ]
  },
  {
   "cell_type": "code",
   "execution_count": 25,
   "metadata": {},
   "outputs": [
    {
     "name": "stdout",
     "output_type": "stream",
     "text": [
      "Verbs in the poem:\n",
      "- peering\n",
      "- stood\n",
      "- wondering\n",
      "- fearing\n",
      "- doubting\n",
      "- dreaming\n",
      "- dared\n",
      "- dream\n",
      "- was\n",
      "- gave\n",
      "- spoken\n",
      "- whispered\n",
      "- echoed\n",
      "- murmured\n",
      "\n",
      "Total count: 14\n"
     ]
    }
   ],
   "source": [
    "system_message = \"\"\"\n",
    "Extract all verbs in the poem specified between <poem></poem> tags.\n",
    "provide number of verbs count.\n",
    "\"\"\"\n",
    "\n",
    "user_message = \"\"\"\n",
    "<poem>Deep into that darkness peering,\n",
    "\n",
    "Long I stood there, wondering, fearing,\n",
    "\n",
    "Doubting, dreaming dreams no mortals\n",
    "\n",
    "Ever dared to dream before;\n",
    "\n",
    "But the silence was unbroken,\n",
    "\n",
    "And the stillness gave no token,\n",
    "\n",
    "And the only word there spoken\n",
    "\n",
    "Was the whispered word, \"Lenore!\"\n",
    "\n",
    "This I whispered, and an echo\n",
    "\n",
    "Murmured back the word, \"Lenore!\"\n",
    "\n",
    "Merely this, and nothing more.</poem> \n",
    "\"\"\"\n",
    "\n",
    "messages = [\n",
    "    {\n",
    "        \"role\": \"system\",\n",
    "        \"content\": system_message\n",
    "    },\n",
    "    {\n",
    "        \"role\": \"user\",\n",
    "        \"content\": user_message\n",
    "    }\n",
    "]\n",
    "\n",
    "response = get_completion(messages)\n",
    "print(response)"
   ]
  },
  {
   "cell_type": "markdown",
   "metadata": {},
   "source": [
    "# Part 4"
   ]
  },
  {
   "attachments": {},
   "cell_type": "markdown",
   "metadata": {},
   "source": [
    "### Exercise: Keep it Short and Concise | Use Role Playing\n",
    "\n",
    "Modify the prompt below to instruct the model to keep AI responses concise and short. Modify the prompt so that it uses a `system_message` and `user_message`. In addition, modify the prompt so that it encourages further interactions."
   ]
  },
  {
   "cell_type": "code",
   "execution_count": 27,
   "metadata": {},
   "outputs": [
    {
     "name": "stdout",
     "output_type": "stream",
     "text": [
      "Black holes are formed when massive stars collapse under their own gravity at the end of their life cycle. This collapse causes the star's core to condense into an extremely dense point known as a singularity, surrounded by an event horizon from which nothing, not even light, can escape. Would you like more detailed information on this process?\n"
     ]
    }
   ],
   "source": [
    "def get_system_message(sys_msg):\n",
    "    return {\n",
    "        \"role\": \"system\",\n",
    "        \"content\": sys_msg\n",
    "    }\n",
    "\n",
    "def get_user_message(user_msg):\n",
    "    return {\n",
    "        \"role\": \"user\",\n",
    "        \"content\": user_msg\n",
    "    }\n",
    "\n",
    "def assistant_message(assist_msg):\n",
    "    return {\n",
    "        \"role\": \"assistant\",\n",
    "        \"content\": assist_msg\n",
    "    }\n",
    "\n",
    "system_message = \"\"\"\n",
    "Provide your response in concise and short manner. You can ask question to user if you are unsure about anything.\n",
    "\"\"\"\n",
    "\n",
    "user_message = \"\"\"\n",
    "The following is a conversation with an AI research assistant. The assistant tone is technical and scientific.\n",
    "\n",
    "Human: Hello, who are you?\n",
    "AI: Greetings! I am an AI research assistant. How can I help you today?\n",
    "Human: Can you tell me about the creation of black holes?\n",
    "AI:\n",
    "\"\"\"\n",
    "messages = []\n",
    "\n",
    "messages.append(get_system_message(system_message))\n",
    "messages.append(get_user_message(user_message))\n",
    "\n",
    "# messages.append(get_user_message(\"Hello, who are you?\"))\n",
    "# messages.append(assistant_message(\"Greetings! I am an AI research assistant. How can I help you today?\"))\n",
    "# messages.append(get_user_message(\"Can you tell me about the creation of black holes?\"))\n",
    "\n",
    "\n",
    "response = get_completion(messages)\n",
    "print(response)"
   ]
  },
  {
   "attachments": {},
   "cell_type": "markdown",
   "metadata": {},
   "source": [
    "### Exercise: Step-by-Step Solution\n",
    "\n",
    "Modify the prompt to steer the model to think in steps before providing an answer. Try to be specific about the particular steps you need the model to take. "
   ]
  },
  {
   "cell_type": "code",
   "execution_count": 28,
   "metadata": {},
   "outputs": [
    {
     "name": "stdout",
     "output_type": "stream",
     "text": [
      "To determine if the sum of the numbers in odd positions (1st, 3rd, 5th, etc.) adds up to an even number in the given sequence: 4, 8, 9, 15, 12, 2, 1, we need to identify the numbers in odd positions and then calculate their sum.\n",
      "\n",
      "1. Numbers in odd positions:\n",
      "- 1st position: 4\n",
      "- 3rd position: 9\n",
      "- 5th position: 12\n",
      "- 7th position: 1\n",
      "\n",
      "2. Sum of the numbers in odd positions:\n",
      "4 + 9 + 12 + 1 = 26\n",
      "\n",
      "Now, let's determine if the sum 26 is an even number:\n",
      "- An even number is divisible by 2 without a remainder.\n",
      "- 26 ÷ 2 = 13\n",
      "\n",
      "Since 26 is divisible by 2 without a remainder, the sum of the numbers in odd positions (4, 9, 12, 1) does add up to an even number, which is 26.\n"
     ]
    }
   ],
   "source": [
    "system_message = \"\"\"\n",
    "Answer the users question and provide step by step deduction of your answers.\n",
    "\"\"\"\n",
    "\n",
    "user_message = \"\"\"\n",
    "Adding all the numbers in odd positions will add up to an even number: 4, 8, 9, 15, 12, 2, 1.\n",
    "\"\"\"\n",
    "\n",
    "messages = [\n",
    "    {\n",
    "        \"role\": \"system\",\n",
    "        \"content\": system_message\n",
    "    },\n",
    "    {\n",
    "        \"role\": \"user\",\n",
    "        \"content\": user_message\n",
    "    }\n",
    "]\n",
    "\n",
    "response = get_completion(messages)\n",
    "print(response)"
   ]
  },
  {
   "cell_type": "markdown",
   "metadata": {},
   "source": [
    "---"
   ]
  }
 ],
 "metadata": {
  "kernelspec": {
   "display_name": "langchain",
   "language": "python",
   "name": "python3"
  },
  "language_info": {
   "codemirror_mode": {
    "name": "ipython",
    "version": 3
   },
   "file_extension": ".py",
   "mimetype": "text/x-python",
   "name": "python",
   "nbconvert_exporter": "python",
   "pygments_lexer": "ipython3",
   "version": "3.9.19"
  },
  "orig_nbformat": 4
 },
 "nbformat": 4,
 "nbformat_minor": 2
}
